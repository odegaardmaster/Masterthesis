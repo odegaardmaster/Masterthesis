{
 "cells": [
  {
   "cell_type": "code",
   "execution_count": 65,
   "metadata": {},
   "outputs": [],
   "source": [
    "import pyDOE \n",
    "from scipy.stats.distributions import uniform\n",
    "import numpy as np\n",
    "from scipy.integrate import odeint\n",
    "import pandas as pd"
   ]
  },
  {
   "cell_type": "markdown",
   "metadata": {},
   "source": [
    "# Build the Hogkin-Huxley model that will generate the membrane potentials"
   ]
  },
  {
   "cell_type": "code",
   "execution_count": 44,
   "metadata": {},
   "outputs": [],
   "source": [
    "\n",
    "\n",
    "class Hodgkin_Huxley_model():\n",
    "    \n",
    "    def __init__(self):\n",
    "\n",
    "        ## Default parameters of the Hodgkin Huxley model\n",
    "        \n",
    "        self.V_rest = -65  \n",
    "        self.Cm = 1        \n",
    "        self.gbar_Na = 120 \n",
    "        self.gbar_K = 36   \n",
    "        self.gbar_L = 0.3  \n",
    "        self.E_Na = 50     \n",
    "        self.E_K = -77     \n",
    "        self.E_l = -54.4   \n",
    "        self.I_value = 150 \n",
    "        \n",
    "        \n",
    "        \n",
    "        SimulationTime = 30 #Simulation time\n",
    "        dt = 0.025 # Time per step\n",
    "        \n",
    "        \n",
    "        self.timeaxis = np.arange(0, SimulationTime + dt, dt)\n",
    "\n",
    "\n",
    "    def I(self, t):\n",
    "        return self.I_value\n",
    "\n",
    "    # K channel\n",
    "    def a_n(self, V):\n",
    "        return 0.01*(V + 55)/(1 - np.exp(-(V + 55)/10.))\n",
    "\n",
    "    def b_n(self, V):\n",
    "        return 0.125*np.exp(-(V + 65)/80.)\n",
    "\n",
    "    def n_f(self, n, V):\n",
    "        return self.a_n(V)*(1 - n) - self.b_n(V)*n\n",
    "\n",
    "    def n_inf(self, V):\n",
    "        return self.a_n(self.V_rest)/(self.a_n(self.V_rest) + self.b_n(self.V_rest))\n",
    "\n",
    "    def a_m(self, V):\n",
    "        return 0.1*(V + 40)/(1 - np.exp(-(V + 40)/10.))\n",
    "\n",
    "    def b_m(self, V):\n",
    "        return 4*np.exp(-(V + 65)/18.)\n",
    "\n",
    "    def m_f(self, m, V):\n",
    "        return self.a_m(V)*(1 - m) - self.b_m(V)*m\n",
    "\n",
    "    def m_inf(self, V):\n",
    "        return self.a_m(self.V_rest)/(self.a_m(self.V_rest) + self.b_m(self.V_rest))\n",
    "    \n",
    "    def a_h(self, V):\n",
    "        return 0.07*np.exp(-(V + 65)/20.)\n",
    "\n",
    "    def b_h(self, V):\n",
    "        return 1/(np.exp(-(V + 35)/10.) + 1)\n",
    "\n",
    "    def h_f(self, h, V):\n",
    "        return self.a_h(V)*(1 - h) - self.b_h(V)*h\n",
    "\n",
    "    def h_inf(self, V):\n",
    "        return self.a_h(self.V_rest)/(self.a_h(self.V_rest) + self.b_h(self.V_rest))\n",
    "\n",
    "\n",
    "    def dXdt(self, X, t):\n",
    "        V, h, m, n = X\n",
    "\n",
    "        g_Na = self.gbar_Na*(m**3)*h\n",
    "        g_K = self.gbar_K*(n**4)\n",
    "        g_l = self.gbar_L\n",
    "\n",
    "        dmdt = self.m_f(m, V)\n",
    "        dhdt = self.h_f(h, V)\n",
    "        dndt = self.n_f(n, V)\n",
    "\n",
    "        dVdt = (self.I(t) - g_Na*(V - self.E_Na) - g_K*(V - self.E_K) - g_l*(V - self.E_l))/self.Cm\n",
    "\n",
    "        return [dVdt, dhdt, dmdt, dndt]\n",
    "\n",
    "\n",
    "    def set_parameters(self, **parameters):\n",
    "        \"\"\"\n",
    "        Setting parameters of the hodgkin huxley model\n",
    "        \"\"\"\n",
    "        for parameter in parameters:\n",
    "            setattr(self, parameter, parameters[parameter])\n",
    "\n",
    "    \n",
    "    \n",
    "\n",
    "    def run(self, **parameters):\n",
    "        self.set_parameters(**parameters)\n",
    "\n",
    "        self.h0 = self.h_inf(self.V_rest)\n",
    "        self.m0 = self.m_inf(self.V_rest)\n",
    "        self.n0 = self.n_inf(self.V_rest)\n",
    "\n",
    "        initial_conditions = [self.V_rest, self.h0, self.m0, self.n0]\n",
    "        \n",
    "        X = odeint(self.dXdt, initial_conditions, self.timeaxis)\n",
    "        \n",
    "        values = X[:, 0]\n",
    "\n",
    "\n",
    "        return self.timeaxis, values"
   ]
  },
  {
   "cell_type": "markdown",
   "metadata": {},
   "source": [
    "# Data Generation"
   ]
  },
  {
   "cell_type": "markdown",
   "metadata": {},
   "source": [
    "## Test run with default values"
   ]
  },
  {
   "cell_type": "code",
   "execution_count": 45,
   "metadata": {},
   "outputs": [],
   "source": [
    "import matplotlib.pyplot as plt\n",
    "HH = Hodgkin_Huxley_model()\n",
    "t0,v0 = HH.run()"
   ]
  },
  {
   "cell_type": "code",
   "execution_count": 46,
   "metadata": {},
   "outputs": [
    {
     "data": {
      "text/plain": [
       "[<matplotlib.lines.Line2D at 0x1a1c2b8c18>]"
      ]
     },
     "execution_count": 46,
     "metadata": {},
     "output_type": "execute_result"
    },
    {
     "data": {
      "image/png": "[encoded data removed]",
      "text/plain": [
       "<Figure size 432x288 with 1 Axes>"
      ]
     },
     "metadata": {
      "needs_background": "light"
     },
     "output_type": "display_data"
    }
   ],
   "source": [
    "plt.plot(t0,v0)"
   ]
  },
  {
   "cell_type": "markdown",
   "metadata": {},
   "source": [
    "## Creating parameter range"
   ]
  },
  {
   "cell_type": "markdown",
   "metadata": {},
   "source": [
    "Sets up a parameter range for the input parameters. "
   ]
  },
  {
   "cell_type": "code",
   "execution_count": 47,
   "metadata": {},
   "outputs": [],
   "source": [
    "pc = 0.2 # Per cent change\n",
    "\n",
    "# Creates list for each parameters: [\"Param\",Start,\"range\"]\n",
    "parameter_list = [\n",
    "                  [\"Cm\", 1*(1-pc), 1*(1+pc) - 1*(1-pc)],\n",
    "                  [\"gbar_Na\", 120*(1-pc) ,120*(1+pc) - 120*(1-pc)],\n",
    "                  [\"gbar_K\" , 36*(1-pc) ,36*(1+pc) - 36*(1-pc)],\n",
    "                  [\"gbar_L\" , 0.3*(1-pc),0.3*(1+pc) - 0.3*(1-pc)],\n",
    "                  [\"E_Na\", 50*(1-pc), 50*(1+pc)-50*(1-pc)], \n",
    "                  [\"E_K\", -77*(1+pc), -77*(1-pc)- -77*(1+pc)], \n",
    "                  [\"E_l\", -54.4 *(1+pc), -54.4 *(1-pc)- -54.4 *(1+pc)]]"
   ]
  },
  {
   "cell_type": "code",
   "execution_count": 51,
   "metadata": {
    "scrolled": true
   },
   "outputs": [
    {
     "data": {
      "text/plain": [
       "[['Cm', 0.8, 0.3999999999999999],\n",
       " ['gbar_Na', 96.0, 48.0],\n",
       " ['gbar_K', 28.8, 14.399999999999995],\n",
       " ['gbar_L', 0.24, 0.12],\n",
       " ['E_Na', 40.0, 20.0],\n",
       " ['E_K', -92.39999999999999, 30.79999999999999],\n",
       " ['E_l', -65.28, 21.759999999999998]]"
      ]
     },
     "execution_count": 51,
     "metadata": {},
     "output_type": "execute_result"
    }
   ],
   "source": [
    "parameter_list # Prints the ranges"
   ]
  },
  {
   "cell_type": "code",
   "execution_count": 52,
   "metadata": {},
   "outputs": [],
   "source": [
    "parameter_list = np.array(parameter_list)"
   ]
  },
  {
   "cell_type": "markdown",
   "metadata": {},
   "source": [
    "## LHS design"
   ]
  },
  {
   "cell_type": "markdown",
   "metadata": {},
   "source": [
    "Extracts starting position and range as seperate lists"
   ]
  },
  {
   "cell_type": "code",
   "execution_count": 81,
   "metadata": {},
   "outputs": [],
   "source": [
    "names = list(parameter_list[:,0])"
   ]
  },
  {
   "cell_type": "code",
   "execution_count": 82,
   "metadata": {},
   "outputs": [
    {
     "data": {
      "text/plain": [
       "[0.8, 96.0, 28.8, 0.24, 40.0, -92.39999999999999, -65.28]"
      ]
     },
     "execution_count": 82,
     "metadata": {},
     "output_type": "execute_result"
    }
   ],
   "source": [
    "param_start = [float(n) for n in parameter_list[:,1]] # Starting value for all parameters\n",
    "param_start"
   ]
  },
  {
   "cell_type": "code",
   "execution_count": 83,
   "metadata": {},
   "outputs": [
    {
     "data": {
      "text/plain": [
       "[0.3999999999999999,\n",
       " 48.0,\n",
       " 14.399999999999995,\n",
       " 0.12,\n",
       " 20.0,\n",
       " 30.79999999999999,\n",
       " 21.759999999999998]"
      ]
     },
     "execution_count": 83,
     "metadata": {},
     "output_type": "execute_result"
    }
   ],
   "source": [
    "param_range = [float(n) for n in parameter_list[:,2]] # Range for all parameters\n",
    "param_range"
   ]
  },
  {
   "cell_type": "markdown",
   "metadata": {},
   "source": [
    "Sets up the Latin Hypercube sampling"
   ]
  },
  {
   "cell_type": "code",
   "execution_count": 84,
   "metadata": {},
   "outputs": [],
   "source": [
    "un = uniform(param_start,param_range) # Creates a uniform distribution for all parameters."
   ]
  },
  {
   "cell_type": "code",
   "execution_count": 85,
   "metadata": {},
   "outputs": [],
   "source": [
    "LHS = pyDOE.lhs(7,samples=3**7) # Define the Latin hypercube sampler"
   ]
  },
  {
   "cell_type": "code",
   "execution_count": 86,
   "metadata": {},
   "outputs": [],
   "source": [
    "sample_space = un.ppf(LHS) # Creates the samplespace running the hypercube sampler with a uniform distribution"
   ]
  },
  {
   "cell_type": "code",
   "execution_count": 87,
   "metadata": {
    "scrolled": true
   },
   "outputs": [
    {
     "data": {
      "text/html": [
       "<div>\n",
       "<style scoped>\n",
       "    .dataframe tbody tr th:only-of-type {\n",
       "        vertical-align: middle;\n",
       "    }\n",
       "\n",
       "    .dataframe tbody tr th {\n",
       "        vertical-align: top;\n",
       "    }\n",
       "\n",
       "    .dataframe thead th {\n",
       "        text-align: right;\n",
       "    }\n",
       "</style>\n",
       "<table border=\"1\" class=\"dataframe\">\n",
       "  <thead>\n",
       "    <tr style=\"text-align: right;\">\n",
       "      <th></th>\n",
       "      <th>Cm</th>\n",
       "      <th>gbar_Na</th>\n",
       "      <th>gbar_K</th>\n",
       "      <th>gbar_L</th>\n",
       "      <th>E_Na</th>\n",
       "      <th>E_K</th>\n",
       "      <th>E_l</th>\n",
       "    </tr>\n",
       "  </thead>\n",
       "  <tbody>\n",
       "    <tr>\n",
       "      <th>count</th>\n",
       "      <td>2187.000000</td>\n",
       "      <td>2187.000000</td>\n",
       "      <td>2187.000000</td>\n",
       "      <td>2187.000000</td>\n",
       "      <td>2187.000000</td>\n",
       "      <td>2187.000000</td>\n",
       "      <td>2187.000000</td>\n",
       "    </tr>\n",
       "    <tr>\n",
       "      <th>mean</th>\n",
       "      <td>1.000002</td>\n",
       "      <td>120.000036</td>\n",
       "      <td>35.999995</td>\n",
       "      <td>0.300000</td>\n",
       "      <td>50.000047</td>\n",
       "      <td>-77.000175</td>\n",
       "      <td>-54.400193</td>\n",
       "    </tr>\n",
       "    <tr>\n",
       "      <th>std</th>\n",
       "      <td>0.115496</td>\n",
       "      <td>13.859808</td>\n",
       "      <td>4.157851</td>\n",
       "      <td>0.034649</td>\n",
       "      <td>5.774837</td>\n",
       "      <td>8.893296</td>\n",
       "      <td>6.282955</td>\n",
       "    </tr>\n",
       "    <tr>\n",
       "      <th>min</th>\n",
       "      <td>0.800093</td>\n",
       "      <td>96.012147</td>\n",
       "      <td>28.800652</td>\n",
       "      <td>0.240017</td>\n",
       "      <td>40.003551</td>\n",
       "      <td>-92.398709</td>\n",
       "      <td>-65.278080</td>\n",
       "    </tr>\n",
       "    <tr>\n",
       "      <th>25%</th>\n",
       "      <td>0.900029</td>\n",
       "      <td>108.000321</td>\n",
       "      <td>32.401804</td>\n",
       "      <td>0.270027</td>\n",
       "      <td>44.997922</td>\n",
       "      <td>-84.697985</td>\n",
       "      <td>-59.839499</td>\n",
       "    </tr>\n",
       "    <tr>\n",
       "      <th>50%</th>\n",
       "      <td>1.000071</td>\n",
       "      <td>120.008844</td>\n",
       "      <td>36.001019</td>\n",
       "      <td>0.300016</td>\n",
       "      <td>50.000748</td>\n",
       "      <td>-77.002098</td>\n",
       "      <td>-54.398433</td>\n",
       "    </tr>\n",
       "    <tr>\n",
       "      <th>75%</th>\n",
       "      <td>1.099950</td>\n",
       "      <td>132.003251</td>\n",
       "      <td>39.600337</td>\n",
       "      <td>0.329990</td>\n",
       "      <td>54.995847</td>\n",
       "      <td>-69.305645</td>\n",
       "      <td>-48.960725</td>\n",
       "    </tr>\n",
       "    <tr>\n",
       "      <th>max</th>\n",
       "      <td>1.199975</td>\n",
       "      <td>143.981517</td>\n",
       "      <td>43.196965</td>\n",
       "      <td>0.359966</td>\n",
       "      <td>59.996656</td>\n",
       "      <td>-61.601450</td>\n",
       "      <td>-43.526950</td>\n",
       "    </tr>\n",
       "  </tbody>\n",
       "</table>\n",
       "</div>"
      ],
      "text/plain": [
       "                Cm      gbar_Na       gbar_K       gbar_L         E_Na  \\\n",
       "count  2187.000000  2187.000000  2187.000000  2187.000000  2187.000000   \n",
       "mean      1.000002   120.000036    35.999995     0.300000    50.000047   \n",
       "std       0.115496    13.859808     4.157851     0.034649     5.774837   \n",
       "min       0.800093    96.012147    28.800652     0.240017    40.003551   \n",
       "25%       0.900029   108.000321    32.401804     0.270027    44.997922   \n",
       "50%       1.000071   120.008844    36.001019     0.300016    50.000748   \n",
       "75%       1.099950   132.003251    39.600337     0.329990    54.995847   \n",
       "max       1.199975   143.981517    43.196965     0.359966    59.996656   \n",
       "\n",
       "               E_K          E_l  \n",
       "count  2187.000000  2187.000000  \n",
       "mean    -77.000175   -54.400193  \n",
       "std       8.893296     6.282955  \n",
       "min     -92.398709   -65.278080  \n",
       "25%     -84.697985   -59.839499  \n",
       "50%     -77.002098   -54.398433  \n",
       "75%     -69.305645   -48.960725  \n",
       "max     -61.601450   -43.526950  "
      ]
     },
     "execution_count": 87,
     "metadata": {},
     "output_type": "execute_result"
    }
   ],
   "source": [
    "pd.DataFrame(sample_space,columns=names).describe() # Prints out parameter space"
   ]
  },
  {
   "cell_type": "markdown",
   "metadata": {},
   "source": [
    "## Data Generation"
   ]
  },
  {
   "cell_type": "markdown",
   "metadata": {},
   "source": [
    "Creates dictionaries witch will be used in the model"
   ]
  },
  {
   "cell_type": "code",
   "execution_count": 21,
   "metadata": {},
   "outputs": [],
   "source": [
    "param_space = []\n",
    "for ss in sample_space:\n",
    "    pp = {names[i]:v for i,v in enumerate(ss)}\n",
    "    param_space.append(pp)"
   ]
  },
  {
   "cell_type": "code",
   "execution_count": 22,
   "metadata": {},
   "outputs": [
    {
     "name": "stdout",
     "output_type": "stream",
     "text": [
      "CPU times: user 3min 21s, sys: 1.49 s, total: 3min 23s\n",
      "Wall time: 3min 27s\n"
     ]
    }
   ],
   "source": [
    "%%time\n",
    "voltages = []\n",
    "for pdict in param_space:\n",
    "    hh = Hodgkin_Huxley_model()\n",
    "    hh.set_parameters(**pdict)\n",
    "    t,v,i = hh.run()\n",
    "    voltages.append(v)\n",
    "    "
   ]
  },
  {
   "cell_type": "code",
   "execution_count": 20,
   "metadata": {
    "scrolled": false
   },
   "outputs": [
    {
     "data": {
      "image/png": "[encoded data removed]",
      "text/plain": [
       "<Figure size 432x288 with 1 Axes>"
      ]
     },
     "metadata": {
      "needs_background": "light"
     },
     "output_type": "display_data"
    }
   ],
   "source": [
    "plt.plot(t,np.transpose(voltages));"
   ]
  },
  {
   "cell_type": "code",
   "execution_count": 89,
   "metadata": {},
   "outputs": [
    {
     "data": {
      "text/plain": [
       "(2187, 1201)"
      ]
     },
     "execution_count": 89,
     "metadata": {},
     "output_type": "execute_result"
    }
   ],
   "source": [
    "np.shape(voltages)"
   ]
  },
  {
   "cell_type": "code",
   "execution_count": 52,
   "metadata": {},
   "outputs": [],
   "source": [
    "ind = []\n",
    "for v in vv:\n",
    "    for i,vo in enumerate(v):\n",
    "        if vo > 0:\n",
    "            ind.append(i)\n",
    "            break\n"
   ]
  },
  {
   "cell_type": "code",
   "execution_count": 53,
   "metadata": {},
   "outputs": [
    {
     "data": {
      "text/plain": [
       "0.3955761316872428"
      ]
     },
     "execution_count": 53,
     "metadata": {},
     "output_type": "execute_result"
    }
   ],
   "source": [
    "np.mean(ind)*0.025"
   ]
  },
  {
   "cell_type": "code",
   "execution_count": 54,
   "metadata": {},
   "outputs": [],
   "source": [
    "import pandas as pd"
   ]
  },
  {
   "cell_type": "code",
   "execution_count": 55,
   "metadata": {},
   "outputs": [],
   "source": [
    "col_names = [str(round(tt,3)) for tt in t] "
   ]
  },
  {
   "cell_type": "code",
   "execution_count": 92,
   "metadata": {},
   "outputs": [],
   "source": [
    "col_names = [str(round(tt,3)) for tt in t] # Creates the columnames \n",
    "voltage_data = pd.DataFrame(voltages,columns=col_names)"
   ]
  },
  {
   "cell_type": "code",
   "execution_count": 93,
   "metadata": {},
   "outputs": [
    {
     "data": {
      "text/html": [
       "<div>\n",
       "<style scoped>\n",
       "    .dataframe tbody tr th:only-of-type {\n",
       "        vertical-align: middle;\n",
       "    }\n",
       "\n",
       "    .dataframe tbody tr th {\n",
       "        vertical-align: top;\n",
       "    }\n",
       "\n",
       "    .dataframe thead th {\n",
       "        text-align: right;\n",
       "    }\n",
       "</style>\n",
       "<table border=\"1\" class=\"dataframe\">\n",
       "  <thead>\n",
       "    <tr style=\"text-align: right;\">\n",
       "      <th></th>\n",
       "      <th>0.0</th>\n",
       "      <th>0.025</th>\n",
       "      <th>0.05</th>\n",
       "      <th>0.075</th>\n",
       "      <th>0.1</th>\n",
       "      <th>0.125</th>\n",
       "      <th>0.15</th>\n",
       "      <th>0.175</th>\n",
       "      <th>0.2</th>\n",
       "      <th>0.225</th>\n",
       "      <th>...</th>\n",
       "      <th>29.775</th>\n",
       "      <th>29.8</th>\n",
       "      <th>29.825</th>\n",
       "      <th>29.85</th>\n",
       "      <th>29.875</th>\n",
       "      <th>29.9</th>\n",
       "      <th>29.925</th>\n",
       "      <th>29.95</th>\n",
       "      <th>29.975</th>\n",
       "      <th>30.0</th>\n",
       "    </tr>\n",
       "  </thead>\n",
       "  <tbody>\n",
       "    <tr>\n",
       "      <th>0</th>\n",
       "      <td>-65.0</td>\n",
       "      <td>-60.954714</td>\n",
       "      <td>-56.980118</td>\n",
       "      <td>-53.070838</td>\n",
       "      <td>-49.219525</td>\n",
       "      <td>-45.414479</td>\n",
       "      <td>-41.636254</td>\n",
       "      <td>-37.852880</td>\n",
       "      <td>-34.013587</td>\n",
       "      <td>-30.041247</td>\n",
       "      <td>...</td>\n",
       "      <td>-49.446541</td>\n",
       "      <td>-49.271716</td>\n",
       "      <td>-49.095793</td>\n",
       "      <td>-48.918674</td>\n",
       "      <td>-48.740256</td>\n",
       "      <td>-48.560431</td>\n",
       "      <td>-48.379088</td>\n",
       "      <td>-48.196112</td>\n",
       "      <td>-48.011381</td>\n",
       "      <td>-47.824772</td>\n",
       "    </tr>\n",
       "    <tr>\n",
       "      <th>1</th>\n",
       "      <td>-65.0</td>\n",
       "      <td>-60.835706</td>\n",
       "      <td>-56.752125</td>\n",
       "      <td>-52.742687</td>\n",
       "      <td>-48.798476</td>\n",
       "      <td>-44.905465</td>\n",
       "      <td>-41.040512</td>\n",
       "      <td>-37.165679</td>\n",
       "      <td>-33.220703</td>\n",
       "      <td>-29.113807</td>\n",
       "      <td>...</td>\n",
       "      <td>-48.974197</td>\n",
       "      <td>-48.834353</td>\n",
       "      <td>-48.693812</td>\n",
       "      <td>-48.552539</td>\n",
       "      <td>-48.410495</td>\n",
       "      <td>-48.267640</td>\n",
       "      <td>-48.123935</td>\n",
       "      <td>-47.979336</td>\n",
       "      <td>-47.833800</td>\n",
       "      <td>-47.687282</td>\n",
       "    </tr>\n",
       "    <tr>\n",
       "      <th>2</th>\n",
       "      <td>-65.0</td>\n",
       "      <td>-61.612491</td>\n",
       "      <td>-58.272117</td>\n",
       "      <td>-54.975051</td>\n",
       "      <td>-51.716353</td>\n",
       "      <td>-48.488734</td>\n",
       "      <td>-45.280869</td>\n",
       "      <td>-42.075089</td>\n",
       "      <td>-38.844320</td>\n",
       "      <td>-35.548249</td>\n",
       "      <td>...</td>\n",
       "      <td>-40.688692</td>\n",
       "      <td>-40.348294</td>\n",
       "      <td>-39.998822</td>\n",
       "      <td>-39.639931</td>\n",
       "      <td>-39.271275</td>\n",
       "      <td>-38.892522</td>\n",
       "      <td>-38.503350</td>\n",
       "      <td>-38.103455</td>\n",
       "      <td>-37.692557</td>\n",
       "      <td>-37.270409</td>\n",
       "    </tr>\n",
       "    <tr>\n",
       "      <th>3</th>\n",
       "      <td>-65.0</td>\n",
       "      <td>-61.223215</td>\n",
       "      <td>-57.509906</td>\n",
       "      <td>-53.854608</td>\n",
       "      <td>-50.250274</td>\n",
       "      <td>-46.686394</td>\n",
       "      <td>-43.146379</td>\n",
       "      <td>-39.603928</td>\n",
       "      <td>-36.018259</td>\n",
       "      <td>-32.328328</td>\n",
       "      <td>...</td>\n",
       "      <td>-44.000309</td>\n",
       "      <td>-43.991871</td>\n",
       "      <td>-43.982730</td>\n",
       "      <td>-43.972899</td>\n",
       "      <td>-43.962387</td>\n",
       "      <td>-43.951207</td>\n",
       "      <td>-43.939371</td>\n",
       "      <td>-43.926891</td>\n",
       "      <td>-43.913778</td>\n",
       "      <td>-43.900046</td>\n",
       "    </tr>\n",
       "    <tr>\n",
       "      <th>4</th>\n",
       "      <td>-65.0</td>\n",
       "      <td>-61.371848</td>\n",
       "      <td>-57.799068</td>\n",
       "      <td>-54.276698</td>\n",
       "      <td>-50.798181</td>\n",
       "      <td>-47.353592</td>\n",
       "      <td>-43.927150</td>\n",
       "      <td>-40.493751</td>\n",
       "      <td>-37.014324</td>\n",
       "      <td>-33.429981</td>\n",
       "      <td>...</td>\n",
       "      <td>-46.491169</td>\n",
       "      <td>-46.280784</td>\n",
       "      <td>-46.066940</td>\n",
       "      <td>-45.849446</td>\n",
       "      <td>-45.628101</td>\n",
       "      <td>-45.402694</td>\n",
       "      <td>-45.173006</td>\n",
       "      <td>-44.938805</td>\n",
       "      <td>-44.699850</td>\n",
       "      <td>-44.455885</td>\n",
       "    </tr>\n",
       "  </tbody>\n",
       "</table>\n",
       "<p>5 rows × 1201 columns</p>\n",
       "</div>"
      ],
      "text/plain": [
       "    0.0      0.025       0.05      0.075        0.1      0.125       0.15  \\\n",
       "0 -65.0 -60.954714 -56.980118 -53.070838 -49.219525 -45.414479 -41.636254   \n",
       "1 -65.0 -60.835706 -56.752125 -52.742687 -48.798476 -44.905465 -41.040512   \n",
       "2 -65.0 -61.612491 -58.272117 -54.975051 -51.716353 -48.488734 -45.280869   \n",
       "3 -65.0 -61.223215 -57.509906 -53.854608 -50.250274 -46.686394 -43.146379   \n",
       "4 -65.0 -61.371848 -57.799068 -54.276698 -50.798181 -47.353592 -43.927150   \n",
       "\n",
       "       0.175        0.2      0.225    ...         29.775       29.8  \\\n",
       "0 -37.852880 -34.013587 -30.041247    ...     -49.446541 -49.271716   \n",
       "1 -37.165679 -33.220703 -29.113807    ...     -48.974197 -48.834353   \n",
       "2 -42.075089 -38.844320 -35.548249    ...     -40.688692 -40.348294   \n",
       "3 -39.603928 -36.018259 -32.328328    ...     -44.000309 -43.991871   \n",
       "4 -40.493751 -37.014324 -33.429981    ...     -46.491169 -46.280784   \n",
       "\n",
       "      29.825      29.85     29.875       29.9     29.925      29.95  \\\n",
       "0 -49.095793 -48.918674 -48.740256 -48.560431 -48.379088 -48.196112   \n",
       "1 -48.693812 -48.552539 -48.410495 -48.267640 -48.123935 -47.979336   \n",
       "2 -39.998822 -39.639931 -39.271275 -38.892522 -38.503350 -38.103455   \n",
       "3 -43.982730 -43.972899 -43.962387 -43.951207 -43.939371 -43.926891   \n",
       "4 -46.066940 -45.849446 -45.628101 -45.402694 -45.173006 -44.938805   \n",
       "\n",
       "      29.975       30.0  \n",
       "0 -48.011381 -47.824772  \n",
       "1 -47.833800 -47.687282  \n",
       "2 -37.692557 -37.270409  \n",
       "3 -43.913778 -43.900046  \n",
       "4 -44.699850 -44.455885  \n",
       "\n",
       "[5 rows x 1201 columns]"
      ]
     },
     "execution_count": 93,
     "metadata": {},
     "output_type": "execute_result"
    }
   ],
   "source": [
    "voltage_data.head()"
   ]
  },
  {
   "cell_type": "raw",
   "metadata": {},
   "source": [
    "voltage_data.to_csv(\"savepath\") # Change savepath to where you want it to be saved."
   ]
  },
  {
   "cell_type": "code",
   "execution_count": 99,
   "metadata": {},
   "outputs": [],
   "source": [
    "parameter_space = []\n",
    "for p in param_space:\n",
    "    parameter_space.append(list(p.values()))\n",
    "    \n",
    "parameter_space = np.array(parameter_space)"
   ]
  },
  {
   "cell_type": "code",
   "execution_count": 100,
   "metadata": {},
   "outputs": [],
   "source": [
    "parameter_df = pd.DataFrame(parameter_space,columns=names)"
   ]
  },
  {
   "cell_type": "code",
   "execution_count": 101,
   "metadata": {},
   "outputs": [
    {
     "data": {
      "text/html": [
       "<div>\n",
       "<style scoped>\n",
       "    .dataframe tbody tr th:only-of-type {\n",
       "        vertical-align: middle;\n",
       "    }\n",
       "\n",
       "    .dataframe tbody tr th {\n",
       "        vertical-align: top;\n",
       "    }\n",
       "\n",
       "    .dataframe thead th {\n",
       "        text-align: right;\n",
       "    }\n",
       "</style>\n",
       "<table border=\"1\" class=\"dataframe\">\n",
       "  <thead>\n",
       "    <tr style=\"text-align: right;\">\n",
       "      <th></th>\n",
       "      <th>Cm</th>\n",
       "      <th>gbar_Na</th>\n",
       "      <th>gbar_K</th>\n",
       "      <th>gbar_L</th>\n",
       "      <th>E_Na</th>\n",
       "      <th>E_K</th>\n",
       "      <th>E_l</th>\n",
       "    </tr>\n",
       "  </thead>\n",
       "  <tbody>\n",
       "    <tr>\n",
       "      <th>0</th>\n",
       "      <td>50.956976</td>\n",
       "      <td>-45.179217</td>\n",
       "      <td>-89.851847</td>\n",
       "      <td>36.487222</td>\n",
       "      <td>118.599866</td>\n",
       "      <td>0.289651</td>\n",
       "      <td>0.904649</td>\n",
       "    </tr>\n",
       "    <tr>\n",
       "      <th>1</th>\n",
       "      <td>58.096844</td>\n",
       "      <td>-45.907460</td>\n",
       "      <td>-81.152005</td>\n",
       "      <td>38.331755</td>\n",
       "      <td>117.311377</td>\n",
       "      <td>0.343236</td>\n",
       "      <td>0.900498</td>\n",
       "    </tr>\n",
       "    <tr>\n",
       "      <th>2</th>\n",
       "      <td>43.847200</td>\n",
       "      <td>-63.954605</td>\n",
       "      <td>-88.073097</td>\n",
       "      <td>28.895365</td>\n",
       "      <td>128.391236</td>\n",
       "      <td>0.326089</td>\n",
       "      <td>1.060774</td>\n",
       "    </tr>\n",
       "    <tr>\n",
       "      <th>3</th>\n",
       "      <td>44.186560</td>\n",
       "      <td>-60.722576</td>\n",
       "      <td>-70.965812</td>\n",
       "      <td>42.174006</td>\n",
       "      <td>135.140206</td>\n",
       "      <td>0.268299</td>\n",
       "      <td>0.983463</td>\n",
       "    </tr>\n",
       "    <tr>\n",
       "      <th>4</th>\n",
       "      <td>49.952393</td>\n",
       "      <td>-60.271667</td>\n",
       "      <td>-84.075049</td>\n",
       "      <td>33.778070</td>\n",
       "      <td>133.652320</td>\n",
       "      <td>0.300837</td>\n",
       "      <td>0.999476</td>\n",
       "    </tr>\n",
       "  </tbody>\n",
       "</table>\n",
       "</div>"
      ],
      "text/plain": [
       "          Cm    gbar_Na     gbar_K     gbar_L        E_Na       E_K       E_l\n",
       "0  50.956976 -45.179217 -89.851847  36.487222  118.599866  0.289651  0.904649\n",
       "1  58.096844 -45.907460 -81.152005  38.331755  117.311377  0.343236  0.900498\n",
       "2  43.847200 -63.954605 -88.073097  28.895365  128.391236  0.326089  1.060774\n",
       "3  44.186560 -60.722576 -70.965812  42.174006  135.140206  0.268299  0.983463\n",
       "4  49.952393 -60.271667 -84.075049  33.778070  133.652320  0.300837  0.999476"
      ]
     },
     "execution_count": 101,
     "metadata": {},
     "output_type": "execute_result"
    }
   ],
   "source": [
    "parameter_df.head()"
   ]
  },
  {
   "cell_type": "raw",
   "metadata": {},
   "source": [
    "parameter_df.to_csv(\"savepath\")"
   ]
  },
  {
   "cell_type": "code",
   "execution_count": 148,
   "metadata": {},
   "outputs": [
    {
     "data": {
      "text/plain": [
       "(2187, 7)"
      ]
     },
     "execution_count": 148,
     "metadata": {},
     "output_type": "execute_result"
    }
   ],
   "source": [
    "parameter_df.shape"
   ]
  },
  {
   "cell_type": "code",
   "execution_count": 150,
   "metadata": {},
   "outputs": [
    {
     "data": {
      "text/plain": [
       "(2187, 1601)"
      ]
     },
     "execution_count": 150,
     "metadata": {},
     "output_type": "execute_result"
    }
   ],
   "source": [
    "voltage_data.shape"
   ]
  },
  {
   "cell_type": "code",
   "execution_count": null,
   "metadata": {},
   "outputs": [],
   "source": []
  }
 ],
 "metadata": {
  "kernelspec": {
   "display_name": "Python 3",
   "language": "python",
   "name": "python3"
  },
  "language_info": {
   "codemirror_mode": {
    "name": "ipython",
    "version": 3
   },
   "file_extension": ".py",
   "mimetype": "text/x-python",
   "name": "python",
   "nbconvert_exporter": "python",
   "pygments_lexer": "ipython3",
   "version": "3.5.6"
  }
 },
 "nbformat": 4,
 "nbformat_minor": 2
}
