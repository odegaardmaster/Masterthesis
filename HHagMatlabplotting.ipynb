{
  "nbformat": 4,
  "nbformat_minor": 0,
  "metadata": {
    "colab": {
      "name": "HHagMatlabplotting.ipynb",
      "version": "0.3.2",
      "provenance": []
    },
    "kernelspec": {
      "name": "python3",
      "display_name": "Python 3"
    }
  },
  "cells": [
    {
      "cell_type": "markdown",
      "metadata": {
        "id": "iCFpGgBlRrkS",
        "colab_type": "text"
      },
      "source": [
        "# Import data"
      ]
    },
    {
      "cell_type": "code",
      "metadata": {
        "id": "EYb6LMalpcLd",
        "colab_type": "code",
        "colab": {}
      },
      "source": [
        "# Load the Drive helper and mount\n",
        "from google.colab import drive\n",
        "\n",
        "# This will prompt for authorization"
      ],
      "execution_count": 0,
      "outputs": []
    },
    {
      "cell_type": "code",
      "metadata": {
        "id": "OLYycZJxphCh",
        "colab_type": "code",
        "outputId": "2321d6db-282f-4ea4-c3b0-b0ba84e95f17",
        "colab": {
          "base_uri": "https://localhost:8080/",
          "height": 34
        }
      },
      "source": [
        "drive.mount('/content/drive')"
      ],
      "execution_count": 0,
      "outputs": [
        {
          "output_type": "stream",
          "text": [
            "Drive already mounted at /content/drive; to attempt to forcibly remount, call drive.mount(\"/content/drive\", force_remount=True).\n"
          ],
          "name": "stdout"
        }
      ]
    },
    {
      "cell_type": "code",
      "metadata": {
        "id": "6cn8-ABBvlyk",
        "colab_type": "code",
        "colab": {}
      },
      "source": [
        "import pandas as pd\n",
        "import numpy as np\n",
        "import matplotlib.pyplot as plt"
      ],
      "execution_count": 0,
      "outputs": []
    },
    {
      "cell_type": "code",
      "metadata": {
        "id": "QMHHrTbMvbbJ",
        "colab_type": "code",
        "outputId": "85fd5e25-f1bb-46ee-9f20-4c0f80df066b",
        "colab": {
          "base_uri": "https://localhost:8080/",
          "height": 52
        }
      },
      "source": [
        "%%time\n",
        "X_df = pd.read_csv(\"drive/My Drive/HH_paramter_space_40s.csv\",index_col=0)\n",
        "y_df = pd.read_csv(\"drive/My Drive/HH_voltage_40s.csv\",index_col=0)\n"
      ],
      "execution_count": 0,
      "outputs": [
        {
          "output_type": "stream",
          "text": [
            "CPU times: user 1.35 s, sys: 108 ms, total: 1.46 s\n",
            "Wall time: 3.22 s\n"
          ],
          "name": "stdout"
        }
      ]
    },
    {
      "cell_type": "code",
      "metadata": {
        "id": "Lhv38bL3tgLX",
        "colab_type": "code",
        "colab": {}
      },
      "source": [
        "ag_df = pd.read_csv(\"drive/My Drive/HH_ag.csv\",index_col=0)"
      ],
      "execution_count": 0,
      "outputs": []
    },
    {
      "cell_type": "code",
      "metadata": {
        "id": "1C7OO92u0GLd",
        "colab_type": "code",
        "colab": {}
      },
      "source": [
        "foo_df = ag_df['first_ap_time']"
      ],
      "execution_count": 0,
      "outputs": []
    },
    {
      "cell_type": "code",
      "metadata": {
        "id": "VitMYRx20UTB",
        "colab_type": "code",
        "outputId": "deb950e7-c273-4b76-a625-e2c1319f8d0b",
        "colab": {
          "base_uri": "https://localhost:8080/",
          "height": 34
        }
      },
      "source": [
        "sum(~pd.isna(foo_df))"
      ],
      "execution_count": 0,
      "outputs": [
        {
          "output_type": "execute_result",
          "data": {
            "text/plain": [
              "2187"
            ]
          },
          "metadata": {
            "tags": []
          },
          "execution_count": 7
        }
      ]
    },
    {
      "cell_type": "code",
      "metadata": {
        "id": "p54O9PA3wEEO",
        "colab_type": "code",
        "colab": {}
      },
      "source": [
        "names = ['gbar_Na','gbar_L','E_L','Cm','gbar_K','E_Na','E_K']\n",
        "X_df.columns=names\n",
        "X = X_df.values\n",
        "y = y_df.values\n",
        "y = y[:,:1201]"
      ],
      "execution_count": 0,
      "outputs": []
    },
    {
      "cell_type": "code",
      "metadata": {
        "id": "3-GcCw7dTzaK",
        "colab_type": "code",
        "outputId": "aa231a93-c200-4c78-8eb2-e42b56793ae4",
        "colab": {
          "base_uri": "https://localhost:8080/",
          "height": 294
        }
      },
      "source": [
        "X_df.describe()"
      ],
      "execution_count": 0,
      "outputs": [
        {
          "output_type": "execute_result",
          "data": {
            "text/html": [
              "<div>\n",
              "<style scoped>\n",
              "    .dataframe tbody tr th:only-of-type {\n",
              "        vertical-align: middle;\n",
              "    }\n",
              "\n",
              "    .dataframe tbody tr th {\n",
              "        vertical-align: top;\n",
              "    }\n",
              "\n",
              "    .dataframe thead th {\n",
              "        text-align: right;\n",
              "    }\n",
              "</style>\n",
              "<table border=\"1\" class=\"dataframe\">\n",
              "  <thead>\n",
              "    <tr style=\"text-align: right;\">\n",
              "      <th></th>\n",
              "      <th>gbar_Na</th>\n",
              "      <th>gbar_L</th>\n",
              "      <th>E_L</th>\n",
              "      <th>Cm</th>\n",
              "      <th>gbar_K</th>\n",
              "      <th>E_Na</th>\n",
              "      <th>E_K</th>\n",
              "    </tr>\n",
              "  </thead>\n",
              "  <tbody>\n",
              "    <tr>\n",
              "      <th>count</th>\n",
              "      <td>2187.000000</td>\n",
              "      <td>2187.000000</td>\n",
              "      <td>2187.000000</td>\n",
              "      <td>2187.000000</td>\n",
              "      <td>2187.000000</td>\n",
              "      <td>2187.000000</td>\n",
              "      <td>2187.000000</td>\n",
              "    </tr>\n",
              "    <tr>\n",
              "      <th>mean</th>\n",
              "      <td>119.999812</td>\n",
              "      <td>0.300000</td>\n",
              "      <td>-54.399868</td>\n",
              "      <td>1.000001</td>\n",
              "      <td>36.000011</td>\n",
              "      <td>50.000058</td>\n",
              "      <td>-77.000241</td>\n",
              "    </tr>\n",
              "    <tr>\n",
              "      <th>std</th>\n",
              "      <td>13.859568</td>\n",
              "      <td>0.034648</td>\n",
              "      <td>6.283135</td>\n",
              "      <td>0.115497</td>\n",
              "      <td>4.157874</td>\n",
              "      <td>5.774797</td>\n",
              "      <td>8.893226</td>\n",
              "    </tr>\n",
              "    <tr>\n",
              "      <th>min</th>\n",
              "      <td>96.008101</td>\n",
              "      <td>0.240041</td>\n",
              "      <td>-65.277294</td>\n",
              "      <td>0.800180</td>\n",
              "      <td>28.801198</td>\n",
              "      <td>40.006009</td>\n",
              "      <td>-92.392450</td>\n",
              "    </tr>\n",
              "    <tr>\n",
              "      <th>25%</th>\n",
              "      <td>108.009501</td>\n",
              "      <td>0.270010</td>\n",
              "      <td>-59.840620</td>\n",
              "      <td>0.900065</td>\n",
              "      <td>32.401137</td>\n",
              "      <td>45.002375</td>\n",
              "      <td>-84.697100</td>\n",
              "    </tr>\n",
              "    <tr>\n",
              "      <th>50%</th>\n",
              "      <td>119.999996</td>\n",
              "      <td>0.300013</td>\n",
              "      <td>-54.400964</td>\n",
              "      <td>1.000036</td>\n",
              "      <td>36.000697</td>\n",
              "      <td>49.996375</td>\n",
              "      <td>-76.997887</td>\n",
              "    </tr>\n",
              "    <tr>\n",
              "      <th>75%</th>\n",
              "      <td>131.997179</td>\n",
              "      <td>0.329996</td>\n",
              "      <td>-48.959416</td>\n",
              "      <td>1.099977</td>\n",
              "      <td>39.597244</td>\n",
              "      <td>54.997873</td>\n",
              "      <td>-69.304729</td>\n",
              "    </tr>\n",
              "    <tr>\n",
              "      <th>max</th>\n",
              "      <td>143.985585</td>\n",
              "      <td>0.359957</td>\n",
              "      <td>-43.529069</td>\n",
              "      <td>1.199897</td>\n",
              "      <td>43.198358</td>\n",
              "      <td>59.991873</td>\n",
              "      <td>-61.603495</td>\n",
              "    </tr>\n",
              "  </tbody>\n",
              "</table>\n",
              "</div>"
            ],
            "text/plain": [
              "           gbar_Na       gbar_L          E_L           Cm       gbar_K  \\\n",
              "count  2187.000000  2187.000000  2187.000000  2187.000000  2187.000000   \n",
              "mean    119.999812     0.300000   -54.399868     1.000001    36.000011   \n",
              "std      13.859568     0.034648     6.283135     0.115497     4.157874   \n",
              "min      96.008101     0.240041   -65.277294     0.800180    28.801198   \n",
              "25%     108.009501     0.270010   -59.840620     0.900065    32.401137   \n",
              "50%     119.999996     0.300013   -54.400964     1.000036    36.000697   \n",
              "75%     131.997179     0.329996   -48.959416     1.099977    39.597244   \n",
              "max     143.985585     0.359957   -43.529069     1.199897    43.198358   \n",
              "\n",
              "              E_Na          E_K  \n",
              "count  2187.000000  2187.000000  \n",
              "mean     50.000058   -77.000241  \n",
              "std       5.774797     8.893226  \n",
              "min      40.006009   -92.392450  \n",
              "25%      45.002375   -84.697100  \n",
              "50%      49.996375   -76.997887  \n",
              "75%      54.997873   -69.304729  \n",
              "max      59.991873   -61.603495  "
            ]
          },
          "metadata": {
            "tags": []
          },
          "execution_count": 9
        }
      ]
    },
    {
      "cell_type": "code",
      "metadata": {
        "id": "teVdtvLdiI94",
        "colab_type": "code",
        "colab": {}
      },
      "source": [
        ""
      ],
      "execution_count": 0,
      "outputs": []
    },
    {
      "cell_type": "markdown",
      "metadata": {
        "id": "g-rzW1uGRunL",
        "colab_type": "text"
      },
      "source": [
        "Next cell creates second order and interaction names"
      ]
    },
    {
      "cell_type": "code",
      "metadata": {
        "id": "w32by8bRjRId",
        "colab_type": "code",
        "colab": {}
      },
      "source": [
        "from copy import copy\n",
        "def sonames(names):\n",
        "  all_names = copy(names)\n",
        "  for i,name in enumerate(names):\n",
        "    all_names.extend([name0+'^2' if name0==name else name+'*'+name0 for name0 in names[i:]])\n",
        "  return all_names\n",
        "\n",
        "snames = sonames(names)\n"
      ],
      "execution_count": 0,
      "outputs": []
    },
    {
      "cell_type": "markdown",
      "metadata": {
        "id": "z-gPidKURzQd",
        "colab_type": "text"
      },
      "source": [
        "# Import matlab structures"
      ]
    },
    {
      "cell_type": "markdown",
      "metadata": {
        "id": "izJXog4RR1tV",
        "colab_type": "text"
      },
      "source": [
        "The structures are created using HPLSR.m and HPLSRpred.m in matlab. "
      ]
    },
    {
      "cell_type": "code",
      "metadata": {
        "id": "Efmp90WfdeQo",
        "colab_type": "code",
        "colab": {}
      },
      "source": [
        "dir_path = \"drive/My Drive/MatlabResults/HHag/\""
      ],
      "execution_count": 0,
      "outputs": []
    },
    {
      "cell_type": "code",
      "metadata": {
        "id": "cal0z1Capji5",
        "colab_type": "code",
        "outputId": "36f4a19d-0ed0-4bdd-eb1b-3439cb3cf60b",
        "colab": {
          "base_uri": "https://localhost:8080/",
          "height": 34
        }
      },
      "source": [
        "!ls drive/My\\ Drive/MatlabResults/HHag"
      ],
      "execution_count": 0,
      "outputs": [
        {
          "output_type": "stream",
          "text": [
            "global_PLSR_training.mat  local_PLSR_training.mat  PLSR_scores.mat\n"
          ],
          "name": "stdout"
        }
      ]
    },
    {
      "cell_type": "code",
      "metadata": {
        "id": "IiypAiDFqGRA",
        "colab_type": "code",
        "colab": {}
      },
      "source": [
        "from scipy import io\n",
        "global_training = io.loadmat(dir_path+'global_PLSR_training.mat')\n",
        "local_training =  io.loadmat(dir_path+'local_PLSR_training.mat')\n",
        "PLSR_scores =  io.loadmat(dir_path+'PLSR_scores.mat')"
      ],
      "execution_count": 0,
      "outputs": []
    },
    {
      "cell_type": "code",
      "metadata": {
        "id": "A2hXZaYrqkqW",
        "colab_type": "code",
        "colab": {}
      },
      "source": [
        "gt_struct = global_training['global_train_model']\n",
        "lt_struct = local_training['local_train_model']\n",
        "sc_struct = PLSR_scores['train_model_ls']\n",
        "\n"
      ],
      "execution_count": 0,
      "outputs": []
    },
    {
      "cell_type": "code",
      "metadata": {
        "id": "dOJmQ4fdsJVA",
        "colab_type": "code",
        "colab": {}
      },
      "source": [
        "gt_val = gt_struct[0,0]\n",
        "lt_val = lt_struct[0,0]\n",
        "sc_val = sc_struct[0,0]"
      ],
      "execution_count": 0,
      "outputs": []
    },
    {
      "cell_type": "code",
      "metadata": {
        "id": "-Ky1BBGvtRMY",
        "colab_type": "code",
        "colab": {}
      },
      "source": [
        "LX = sc_val['LX']\n",
        "SX = sc_val['SX']\n",
        "LY = sc_val['LY']\n",
        "SY = sc_val['SY']\n",
        "W = sc_val['W']\n",
        "LXgr = sc_val['LXgr']\n",
        "SXgr = sc_val['SXgr']\n",
        "LYgr = sc_val['LYgr']\n",
        "SYgr = sc_val['SYgr']\n",
        "Wgr = sc_val['Wgr']\n",
        "\n",
        "R2 = gt_val['R2']\n",
        "B = gt_val['B']\n",
        "options = gt_val['options']\n",
        "tf = gt_val['tf']\n",
        "MSE = gt_val['MSE']\n",
        "RMSEP = gt_val['RMSEP']\n",
        "pctvar = gt_val['pctvar']\n",
        "Ypred = gt_val['Ypred']\n",
        "optPCs = gt_val['optPCs']\n",
        "\n",
        "cluster_centers = lt_val['cluster_centers']\n",
        "Bgr = lt_val['Bgr']\n",
        "options = lt_val['options']\n",
        "tf = lt_val['tf']\n",
        "clusters = lt_val['clusters']\n",
        "optPCsgr = lt_val['optPCsgr']\n",
        "pctvargr = lt_val['pctvargr']\n",
        "Ypredgr = lt_val['Ypredgr']\n",
        "MSEgr = lt_val['MSEgr']\n",
        "RMSEPgr = lt_val['RMSEPgr']"
      ],
      "execution_count": 0,
      "outputs": []
    },
    {
      "cell_type": "code",
      "metadata": {
        "id": "mmM5mx09txqz",
        "colab_type": "code",
        "colab": {}
      },
      "source": [
        "tf = tf.squeeze()\n",
        "indexes = tf == 1"
      ],
      "execution_count": 0,
      "outputs": []
    },
    {
      "cell_type": "code",
      "metadata": {
        "id": "nJgy92Kov3O5",
        "colab_type": "code",
        "colab": {}
      },
      "source": [
        "X_train = X[indexes,:]\n",
        "X_test = X[~indexes,:]\n",
        "y_train = y[indexes,:]\n",
        "y_test = y[~indexes,:]"
      ],
      "execution_count": 0,
      "outputs": []
    },
    {
      "cell_type": "code",
      "metadata": {
        "id": "mZI01-la3Vf9",
        "colab_type": "code",
        "colab": {}
      },
      "source": [
        "clusters = clusters.squeeze()"
      ],
      "execution_count": 0,
      "outputs": []
    },
    {
      "cell_type": "code",
      "metadata": {
        "id": "XyuJ1T91n781",
        "colab_type": "code",
        "colab": {}
      },
      "source": [
        "ag_names = list(ag_df.columns[1:])"
      ],
      "execution_count": 0,
      "outputs": []
    },
    {
      "cell_type": "code",
      "metadata": {
        "id": "sP1SfcROucsb",
        "colab_type": "code",
        "colab": {}
      },
      "source": [
        "ag_names = ['Time to AP','Amplitude of AP','Width of AP']"
      ],
      "execution_count": 0,
      "outputs": []
    },
    {
      "cell_type": "code",
      "metadata": {
        "id": "drZM7XhWveWw",
        "colab_type": "code",
        "colab": {}
      },
      "source": [
        "headers = ['B0'] +  snames"
      ],
      "execution_count": 0,
      "outputs": []
    },
    {
      "cell_type": "markdown",
      "metadata": {
        "id": "aFKk5Z1ZR_kf",
        "colab_type": "text"
      },
      "source": [
        "# Plots"
      ]
    },
    {
      "cell_type": "markdown",
      "metadata": {
        "id": "rIFClkx6SBwk",
        "colab_type": "text"
      },
      "source": [
        "## Main regression coefficients"
      ]
    },
    {
      "cell_type": "code",
      "metadata": {
        "id": "OynK-3CEokQ9",
        "colab_type": "code",
        "outputId": "5d312818-6bf3-48ba-b86a-3d20351ad79a",
        "colab": {
          "base_uri": "https://localhost:8080/",
          "height": 729
        }
      },
      "source": [
        "\n",
        "plt.figure(figsize=(20,10))\n",
        "for n,agt in enumerate(ag_names):\n",
        "  plt.subplot(3,1,n+1)\n",
        "  plt.title(ag_names[n],fontweight='bold',fontsize=14)\n",
        "  width=0.1\n",
        "\n",
        "\n",
        "  x = np.array([i for i in range(1,9)])\n",
        "  plt.bar(x-0.2,Bgr[0,:8,n].T,width=width,label='cluster: 1');\n",
        "  plt.bar(x-0.1,Bgr[1,:8,n].T,width=width,label='cluster: 2');\n",
        "  plt.bar(x    ,Bgr[2,:8,n].T,width=width,label='cluster: 3');\n",
        "  plt.bar(x+0.1,Bgr[3,:8,n].T,width=width,label='cluster: 4');\n",
        "  plt.bar(x+0.2,Bgr[4,:8,n].T,width=width,label='cluster: 5');\n",
        "  plt.bar(x+0.3,Bgr[5,:8,n].T,width=width,label='cluster: 6');\n",
        "  \n",
        "  \n",
        "  if n == 0:\n",
        "    plt.ylim(-1.5,1.5)\n",
        "    plt.ylabel('Regression coeffisients',fontweight='bold',fontsize=14)\n",
        "    plt.tick_params(axis='x',labelbottom=False)\n",
        "    plt.legend(bbox_to_anchor=(1, 1),prop={'size': 20})\n",
        "    \n",
        "  elif n == 1:\n",
        "    plt.ylim(-4,4)\n",
        "    plt.ylabel('Regression coeffisients',fontweight='bold',fontsize=14)\n",
        "    plt.tick_params(axis='x',labelbottom=False)\n",
        "    \n",
        "    \n",
        "  else:\n",
        "    plt.ylim(-3,3)\n",
        "    plt.ylabel('Regression coeffisients',fontweight='bold',fontsize=14)\n",
        "    plt.xticks(x,headers[:8],fontweight='bold',fontsize=16);\n",
        "    plt.xlabel('Parameter',fontweight='bold',fontsize=16)\n",
        "    \n",
        "    \n",
        "    \n",
        "\n",
        "\n",
        "plt.tight_layout()\n",
        "plt.savefig(\"drive/My Drive/Figures/HCPLSR/HHag_orginal\")\n"
      ],
      "execution_count": 0,
      "outputs": [
        {
          "output_type": "display_data",
          "data": {
            "image/png": "[encoded data removed]",
            "text/plain": [
              "<Figure size 1440x720 with 3 Axes>"
            ]
          },
          "metadata": {
            "tags": []
          }
        }
      ]
    },
    {
      "cell_type": "markdown",
      "metadata": {
        "id": "CzmfG1AxSL99",
        "colab_type": "text"
      },
      "source": [
        "## Significant second order and interaction regression coefficients"
      ]
    },
    {
      "cell_type": "code",
      "metadata": {
        "id": "L5ryeS4vvc-R",
        "colab_type": "code",
        "colab": {}
      },
      "source": [
        "sign_indexes = []\n",
        "sign_headers = []\n",
        "for agt in range(3):\n",
        "  sign_ind = []\n",
        "  sign_head = []\n",
        "  for i in range(8,Bgr.shape[1]):\n",
        "\n",
        "    if np.any(abs(np.squeeze(Bgr[:,i,agt])) > np.max(abs(Bgr[:,:8,agt]))*0.05):  # Significant if 5% of maximum value\n",
        "      sign_ind.append(i)\n",
        "      sign_head.append(headers[i])\n",
        "  sign_indexes.append(sign_ind)\n",
        "  sign_headers.append(sign_head)\n",
        "  \n",
        "sign_indexes = np.array(sign_indexes)"
      ],
      "execution_count": 0,
      "outputs": []
    },
    {
      "cell_type": "code",
      "metadata": {
        "id": "zH7PtZTn01y8",
        "colab_type": "code",
        "outputId": "95bf8979-2b2b-41ff-aed4-0a67c46145ac",
        "colab": {
          "base_uri": "https://localhost:8080/",
          "height": 34
        }
      },
      "source": [
        "sign_indexes[2]"
      ],
      "execution_count": 0,
      "outputs": [
        {
          "output_type": "execute_result",
          "data": {
            "text/plain": [
              "[8, 10, 13, 15, 21, 22, 27, 28, 29, 33, 35]"
            ]
          },
          "metadata": {
            "tags": []
          },
          "execution_count": 38
        }
      ]
    },
    {
      "cell_type": "code",
      "metadata": {
        "id": "gHw95oacHDtM",
        "colab_type": "code",
        "outputId": "80f45ca1-7d2d-457d-a224-f082d11dfe1c",
        "colab": {
          "base_uri": "https://localhost:8080/",
          "height": 242
        }
      },
      "source": [
        "sign_headers"
      ],
      "execution_count": 0,
      "outputs": [
        {
          "output_type": "execute_result",
          "data": {
            "text/plain": [
              "[['Cm*gbar_K', 'E_K*E_K'],\n",
              " [],\n",
              " ['gbar_Na*gbar_Na',\n",
              "  'gbar_Na*E_L',\n",
              "  'gbar_Na*E_Na',\n",
              "  'gbar_L*gbar_L',\n",
              "  'E_L*E_L',\n",
              "  'Cm^2',\n",
              "  'Cm*gbar_K',\n",
              "  'Cm*E_Na',\n",
              "  'Cm*E_K',\n",
              "  'E_Na*E_Na',\n",
              "  'E_K*E_K']]"
            ]
          },
          "metadata": {
            "tags": []
          },
          "execution_count": 39
        }
      ]
    },
    {
      "cell_type": "code",
      "metadata": {
        "id": "ErC75YA_wvHA",
        "colab_type": "code",
        "outputId": "5bc99608-ac2a-476d-d8ad-661016baf696",
        "colab": {
          "base_uri": "https://localhost:8080/",
          "height": 729
        }
      },
      "source": [
        "new_sign_indexes = np.array(sign_indexes[2])\n",
        "new_sign_headers = np.array(sign_headers[2])\n",
        "plt.figure(figsize=(20,10))\n",
        "for n,agt in enumerate(ag_names):\n",
        "  plt.subplot(3,1,n+1)\n",
        "  plt.title(ag_names[n],fontweight='bold',fontsize=14)\n",
        "  width=0.1\n",
        "\n",
        "\n",
        "  x = np.array([i for i in range(1,12)])\n",
        "  plt.bar(x-0.2,Bgr[0,new_sign_indexes,n].T,width=width,label='cluster: 1');\n",
        "  plt.bar(x-0.1,Bgr[1,new_sign_indexes,n].T,width=width,label='cluster: 2');\n",
        "  plt.bar(x    ,Bgr[2,new_sign_indexes,n].T,width=width,label='cluster: 3');\n",
        "  plt.bar(x+0.1,Bgr[3,new_sign_indexes,n].T,width=width,label='cluster: 4');\n",
        "  plt.bar(x+0.2,Bgr[4,new_sign_indexes,n].T,width=width,label='cluster: 5');\n",
        "  plt.bar(x+0.3,Bgr[5,new_sign_indexes,n].T,width=width,label='cluster: 6');\n",
        "\n",
        "  if n == 0:\n",
        "    plt.ylim(-1.5,1.5)\n",
        "    plt.ylabel('Regression coeffisients',fontweight='bold',fontsize=12)\n",
        "    plt.tick_params(axis='x',labelbottom=False)\n",
        "    plt.legend(bbox_to_anchor=(1, 1),prop={'size': 20})\n",
        "    \n",
        "  elif n == 1:\n",
        "    plt.ylim(-4,4)\n",
        "    plt.ylabel('Regression coeffisients',fontweight='bold',fontsize=12)\n",
        "    plt.tick_params(axis='x',labelbottom=False)\n",
        "    \n",
        "    \n",
        "  else:\n",
        "    plt.ylim(-3,3)\n",
        "    plt.ylabel('Regression coeffisients',fontweight='bold',fontsize=12)\n",
        "    plt.xticks(x,new_sign_headers,fontweight='bold',fontsize=16,rotation=90);\n",
        "    plt.xlabel('Parameter',fontweight='bold',fontsize=16)\n",
        "    \n",
        "    \n",
        "    \n",
        "\n",
        "\n",
        "plt.tight_layout()\n",
        "plt.savefig(\"drive/My Drive/Figures/HCPLSR/HHag_interaction2\")\n",
        "\n"
      ],
      "execution_count": 0,
      "outputs": [
        {
          "output_type": "display_data",
          "data": {
            "image/png": "[encoded data removed]",
            "text/plain": [
              "<Figure size 1440x720 with 3 Axes>"
            ]
          },
          "metadata": {
            "tags": []
          }
        }
      ]
    },
    {
      "cell_type": "code",
      "metadata": {
        "id": "sYJnlOtP295N",
        "colab_type": "code",
        "colab": {}
      },
      "source": [
        ""
      ],
      "execution_count": 0,
      "outputs": []
    }
  ]
}